{
  "nbformat": 4,
  "nbformat_minor": 0,
  "metadata": {
    "colab": {
      "provenance": []
    },
    "kernelspec": {
      "name": "python3",
      "display_name": "Python 3"
    },
    "language_info": {
      "name": "python"
    }
  },
  "cells": [
    {
      "cell_type": "code",
      "execution_count": 1,
      "metadata": {
        "colab": {
          "base_uri": "https://localhost:8080/"
        },
        "id": "eZcB2_AxBTWh",
        "outputId": "bb06cb58-45d7-4038-8944-8110a52f5bf0"
      },
      "outputs": [
        {
          "output_type": "stream",
          "name": "stdout",
          "text": [
            "2\n"
          ]
        }
      ],
      "source": [
        "list3= [\"a\", \"b\", \"c\", \"d\"]\n",
        "z= list3.index(\"c\")\n",
        "print(z)"
      ]
    },
    {
      "cell_type": "code",
      "source": [
        "list1= ['physics', 'chemistry', 1997, 2000]\n",
        "list2= [1, 2, 3, 4, 5]\n",
        "list3= [\"a\",\"b\",\"c\",\"d\"]\n",
        "X=list1.index('chemistry')\n",
        "print(X)\n",
        "X=list2.index(4,)\n",
        "print(X)\n",
        "X=list3.index(\"c\")\n",
        "print(X)"
      ],
      "metadata": {
        "colab": {
          "base_uri": "https://localhost:8080/"
        },
        "id": "FwdHEYsvBfd2",
        "outputId": "c2c94625-7816-4cf0-b977-c48195e955d7"
      },
      "execution_count": 2,
      "outputs": [
        {
          "output_type": "stream",
          "name": "stdout",
          "text": [
            "1\n",
            "3\n",
            "2\n"
          ]
        }
      ]
    },
    {
      "cell_type": "code",
      "source": [
        "thislist = [\"apple\", \"banana\", \"cherry\", \"orange\", \"kiwi\", \"melon\", \"mango\"]\n",
        "print(thislist[2:5])"
      ],
      "metadata": {
        "colab": {
          "base_uri": "https://localhost:8080/"
        },
        "id": "GEXobObBBoa1",
        "outputId": "7c8a1fa3-10ff-4321-e6b9-2a8c48354819"
      },
      "execution_count": 3,
      "outputs": [
        {
          "output_type": "stream",
          "name": "stdout",
          "text": [
            "['cherry', 'orange', 'kiwi']\n"
          ]
        }
      ]
    },
    {
      "cell_type": "code",
      "source": [
        "thislist = [\"apple\", \"banana\", \"cherry\", \"orange\", \"kiwi\", \"melon\", \"mango\"]\n",
        "print(thislist[:4])"
      ],
      "metadata": {
        "colab": {
          "base_uri": "https://localhost:8080/"
        },
        "id": "Lz_24xO5CGBh",
        "outputId": "1c04cc6a-e7f3-45e7-f62a-b2b393d1f7dd"
      },
      "execution_count": 4,
      "outputs": [
        {
          "output_type": "stream",
          "name": "stdout",
          "text": [
            "['apple', 'banana', 'cherry', 'orange']\n"
          ]
        }
      ]
    },
    {
      "cell_type": "code",
      "source": [
        "matrix = [\n",
        "    [1, 2, 3],\n",
        "    [4, 5, 6],\n",
        "    [7, 8, 9],\n",
        "    [10, 11, 12]\n",
        "]\n",
        "Extract the first two rows\n",
        "Extract only the second column from all rows\n"
      ],
      "metadata": {
        "id": "uv59v0HxAIJK"
      },
      "execution_count": null,
      "outputs": []
    },
    {
      "cell_type": "code",
      "source": [
        "# Extracting the first two rows\n",
        "x = [\n",
        "    [1, 2, 3],\n",
        "    [4, 5, 6],\n",
        "    [7, 8, 9],\n",
        "    [10, 11, 12]\n",
        "]\n",
        "\n",
        "x = x[:2]\n",
        "print(x)"
      ],
      "metadata": {
        "colab": {
          "base_uri": "https://localhost:8080/"
        },
        "id": "abDovG2CB1fa",
        "outputId": "38cea6ba-b169-41c2-a11b-b25ed7e7b397"
      },
      "execution_count": 44,
      "outputs": [
        {
          "output_type": "stream",
          "name": "stdout",
          "text": [
            "[[1, 2, 3], [4, 5, 6]]\n"
          ]
        }
      ]
    },
    {
      "cell_type": "code",
      "source": [
        "# Extracting the second column\n",
        "x= [\n",
        "    [1, 2, 3],\n",
        "    [4, 5, 6],\n",
        "    [7, 8, 9],\n",
        "    [10, 11, 12]\n",
        "]\n",
        "\n",
        "x = x[1] for in x\n",
        "\n",
        "print(x)"
      ],
      "metadata": {
        "colab": {
          "base_uri": "https://localhost:8080/",
          "height": 106
        },
        "id": "nuM6FGHHDW4B",
        "outputId": "e8f46d8f-8e93-48a8-fad2-0fcd8b743b23"
      },
      "execution_count": 69,
      "outputs": [
        {
          "output_type": "error",
          "ename": "SyntaxError",
          "evalue": "invalid syntax (<ipython-input-69-f8d76edd653a>, line 9)",
          "traceback": [
            "\u001b[0;36m  File \u001b[0;32m\"<ipython-input-69-f8d76edd653a>\"\u001b[0;36m, line \u001b[0;32m9\u001b[0m\n\u001b[0;31m    x = x[1] for in x\u001b[0m\n\u001b[0m             ^\u001b[0m\n\u001b[0;31mSyntaxError\u001b[0m\u001b[0;31m:\u001b[0m invalid syntax\n"
          ]
        }
      ]
    },
    {
      "cell_type": "code",
      "source": [
        "# Extract temperatures from index 2 to 6\n",
        "temperatures = [32, 35, 30, 28, 40, 45, 38, 36, 33]\n",
        "x = temperatures[2:6]\n",
        "\n",
        "print(x)"
      ],
      "metadata": {
        "colab": {
          "base_uri": "https://localhost:8080/"
        },
        "id": "oplU4PqLEMLm",
        "outputId": "28f4c728-8bed-481e-a734-baf69c9156d7"
      },
      "execution_count": 11,
      "outputs": [
        {
          "output_type": "stream",
          "name": "stdout",
          "text": [
            "[30, 28, 40, 45]\n"
          ]
        }
      ]
    },
    {
      "cell_type": "code",
      "source": [
        "# Extract temperatures from index 4 to the end\n",
        "temperatures = [32, 35, 30, 28, 40, 45, 38, 36, 33]\n",
        "x = temperatures[4:]\n",
        "print(x)"
      ],
      "metadata": {
        "colab": {
          "base_uri": "https://localhost:8080/"
        },
        "id": "DKoELirzFp0X",
        "outputId": "35cadf19-f285-4606-ae12-24e5e3803e4d"
      },
      "execution_count": 16,
      "outputs": [
        {
          "output_type": "stream",
          "name": "stdout",
          "text": [
            "[40, 45, 38, 36, 33]\n"
          ]
        }
      ]
    },
    {
      "cell_type": "code",
      "source": [
        "# Extract every second color\n",
        "colors = ['red', 'blue', 'green', 'yellow', 'purple', 'orange', 'pink']\n",
        "\n",
        "every_second_color = colors[1::2]\n",
        "\n",
        "print(every_second_color)"
      ],
      "metadata": {
        "colab": {
          "base_uri": "https://localhost:8080/"
        },
        "id": "7gd4XYr0GeFO",
        "outputId": "17308024-374e-4da2-c020-c67d5e038522"
      },
      "execution_count": 23,
      "outputs": [
        {
          "output_type": "stream",
          "name": "stdout",
          "text": [
            "['blue', 'yellow', 'orange']\n"
          ]
        }
      ]
    },
    {
      "cell_type": "code",
      "source": [
        "# Extract every third color\n",
        "colors = ['red', 'blue', 'green', 'yellow', 'purple', 'orange', 'pink']\n",
        "\n",
        "z = colors[::3]\n",
        "print(z)"
      ],
      "metadata": {
        "colab": {
          "base_uri": "https://localhost:8080/"
        },
        "id": "aLumMyoIHpwh",
        "outputId": "b3cd8ae4-e221-4d58-e22f-eb89d2fcd978"
      },
      "execution_count": 32,
      "outputs": [
        {
          "output_type": "stream",
          "name": "stdout",
          "text": [
            "['red', 'yellow', 'pink']\n"
          ]
        }
      ]
    },
    {
      "cell_type": "code",
      "source": [
        "# Extract elements at odd indices\n",
        "numbers = [5, 10, 15, 20, 25, 30, 35, 40, 45, 50]\n",
        "\n",
        "odd_indices = (numbers[0::2])\n",
        "print(odd_indices)"
      ],
      "metadata": {
        "colab": {
          "base_uri": "https://localhost:8080/"
        },
        "id": "3tqRemsBJkJI",
        "outputId": "a0d69dd5-018a-4b21-8564-fb8e2a465606"
      },
      "execution_count": 42,
      "outputs": [
        {
          "output_type": "stream",
          "name": "stdout",
          "text": [
            "[5, 15, 25, 35, 45]\n"
          ]
        }
      ]
    },
    {
      "cell_type": "code",
      "source": [
        "# Extract elements at even indices\n",
        "numbers = [5, 10, 15, 20, 25, 30, 35, 40, 45, 50]\n",
        "\n",
        "even_indices = (numbers[1::2])\n",
        "\n",
        "print(even_indices)"
      ],
      "metadata": {
        "colab": {
          "base_uri": "https://localhost:8080/"
        },
        "id": "xre-vyPbKJox",
        "outputId": "f16c10a5-f287-408a-d5b2-ee3db6a80def"
      },
      "execution_count": 55,
      "outputs": [
        {
          "output_type": "stream",
          "name": "stdout",
          "text": [
            "[10, 20, 30, 40, 50]\n"
          ]
        }
      ]
    },
    {
      "cell_type": "code",
      "source": [
        "# Extract every third element starting from index 2\n",
        "numbers = [5, 10, 15, 20, 25, 30, 35, 40, 45, 50]\n",
        "\n",
        "a = numbers[2::3]\n",
        "print(a)"
      ],
      "metadata": {
        "colab": {
          "base_uri": "https://localhost:8080/"
        },
        "id": "XZacvWsMSzOM",
        "outputId": "80c08ab2-d5ff-4ebd-87b2-6b28acbf2fcb"
      },
      "execution_count": 71,
      "outputs": [
        {
          "output_type": "stream",
          "name": "stdout",
          "text": [
            "[15, 30, 45]\n"
          ]
        }
      ]
    },
    {
      "cell_type": "code",
      "source": [
        "# append itms in list\n",
        "thislist = [\"apple\", \"banana\", \"cherry\"]\n",
        "thislist.append(\"orange\")\n",
        "print(thislist)"
      ],
      "metadata": {
        "colab": {
          "base_uri": "https://localhost:8080/"
        },
        "id": "fLKuuO-T1uSA",
        "outputId": "2d56731d-0d3f-445c-da2b-9cc0eeb5ee66"
      },
      "execution_count": 59,
      "outputs": [
        {
          "output_type": "stream",
          "name": "stdout",
          "text": [
            "['apple', 'banana', 'cherry', 'orange']\n"
          ]
        }
      ]
    },
    {
      "cell_type": "code",
      "source": [
        "# Insert items in list\n",
        "thislist = [\"apple\", \"banana\", \"cherry\"]\n",
        "thislist.insert(1, \"orange\")\n",
        "print(thislist)"
      ],
      "metadata": {
        "colab": {
          "base_uri": "https://localhost:8080/"
        },
        "id": "vedksNi-2Kfw",
        "outputId": "e66cef16-cf70-43d3-cc34-699bbbdcfae5"
      },
      "execution_count": 66,
      "outputs": [
        {
          "output_type": "stream",
          "name": "stdout",
          "text": [
            "['apple', 'orange', 'banana', 'cherry']\n"
          ]
        }
      ]
    },
    {
      "cell_type": "code",
      "source": [
        "# Extend items in list\n",
        "thislist = [\"apple\", \"banana\", \"cherry\"]\n",
        "thatlist = [\"orange\", \"peach\"]\n",
        "thislist.extend(thatlist)\n",
        "print(thislist)"
      ],
      "metadata": {
        "colab": {
          "base_uri": "https://localhost:8080/"
        },
        "id": "SMJIKzwH4J_7",
        "outputId": "b2cf2c10-87d7-4b14-b9df-4aa06ebfa95b"
      },
      "execution_count": 62,
      "outputs": [
        {
          "output_type": "stream",
          "name": "stdout",
          "text": [
            "['apple', 'banana', 'cherry', 'orange', 'peach']\n"
          ]
        }
      ]
    },
    {
      "cell_type": "code",
      "source": [
        "# add any lterable\n",
        "\n",
        "thislist = [\"apple\", \"mango\", \"cherry\"]    # [] its used for list\n",
        "thistuple = (\"orange\", \"peach\", \"kiwi\")     #() its used for tuple\n",
        "thislist.extend(thistuple)\n",
        "print(thislist)"
      ],
      "metadata": {
        "colab": {
          "base_uri": "https://localhost:8080/"
        },
        "id": "UL0P6mDl5D1N",
        "outputId": "b6bbe661-79ad-4293-8b4e-acc8ef7434f5"
      },
      "execution_count": 63,
      "outputs": [
        {
          "output_type": "stream",
          "name": "stdout",
          "text": [
            "['apple', 'mango', 'cherry', 'orange', 'peach', 'kiwi']\n"
          ]
        }
      ]
    },
    {
      "cell_type": "code",
      "source": [
        "# Remove specified items\n",
        "\n",
        "thislist = [\"apple\", \"banana\", \"peach\"]\n",
        "thislist.remove(\"apple\")\n",
        "print(thislist)"
      ],
      "metadata": {
        "colab": {
          "base_uri": "https://localhost:8080/"
        },
        "id": "_EyZ-djhDPSh",
        "outputId": "00dfb35e-5e43-4df5-f8f2-989485830926"
      },
      "execution_count": 73,
      "outputs": [
        {
          "output_type": "stream",
          "name": "stdout",
          "text": [
            "['banana', 'peach']\n"
          ]
        }
      ]
    },
    {
      "cell_type": "code",
      "source": [
        "# Remove specified index\n",
        "\n",
        "thislist = [\"apple\", \"banana\", \"peach\"]\n",
        "del thislist[1]\n",
        "print(thislist)"
      ],
      "metadata": {
        "colab": {
          "base_uri": "https://localhost:8080/"
        },
        "id": "L4lBL4AiDsnP",
        "outputId": "f741cdbd-8c55-4601-f23e-3d5f9697d59d"
      },
      "execution_count": 75,
      "outputs": [
        {
          "output_type": "stream",
          "name": "stdout",
          "text": [
            "['apple', 'peach']\n"
          ]
        }
      ]
    },
    {
      "cell_type": "code",
      "source": [
        "# Remove specified index\n",
        "\n",
        "thislist = [\"apple\", \"mango\", \"cherry\"]\n",
        "thislist.remove(\"apple\")\n",
        "print(thislist)"
      ],
      "metadata": {
        "colab": {
          "base_uri": "https://localhost:8080/"
        },
        "id": "tVK97yPcEAeo",
        "outputId": "4b3ad43a-91ff-490a-c645-7575056db219"
      },
      "execution_count": 85,
      "outputs": [
        {
          "output_type": "stream",
          "name": "stdout",
          "text": [
            "['mango', 'cherry']\n"
          ]
        }
      ]
    },
    {
      "cell_type": "code",
      "source": [
        "#sort list alphabatically\n",
        "\n",
        "thislist = [\"apple\", \"banana\", \"peach\" , \"mango\", \"cherry\", \"kiwi\"]\n",
        "thislist.sort()\n",
        "print(thislist)"
      ],
      "metadata": {
        "colab": {
          "base_uri": "https://localhost:8080/"
        },
        "id": "tgDdf7VjEQeL",
        "outputId": "8f61900b-1230-42fd-e96f-d12b719458da"
      },
      "execution_count": 76,
      "outputs": [
        {
          "output_type": "stream",
          "name": "stdout",
          "text": [
            "['apple', 'banana', 'cherry', 'kiwi', 'mango', 'peach']\n"
          ]
        }
      ]
    },
    {
      "cell_type": "code",
      "source": [
        "#sort the list numerically\n",
        "\n",
        "thislist = [100, 70, 45, 20, 16, 64, 82]\n",
        "thislist.sort()\n",
        "print(thislist)"
      ],
      "metadata": {
        "colab": {
          "base_uri": "https://localhost:8080/"
        },
        "id": "zSjIPnJuEvOb",
        "outputId": "f0b0200b-e754-49af-e788-6e5982b79b16"
      },
      "execution_count": 77,
      "outputs": [
        {
          "output_type": "stream",
          "name": "stdout",
          "text": [
            "[16, 20, 45, 64, 70, 82, 100]\n"
          ]
        }
      ]
    },
    {
      "cell_type": "code",
      "source": [
        "#sort list desending\n",
        "\n",
        "thislist = [\"apple\", \"banana\", \"peach\" , \"mango\", \"cherry\", \"kiwi\"]\n",
        "thislist.sort(reverse = True)\n",
        "print(thislist)"
      ],
      "metadata": {
        "colab": {
          "base_uri": "https://localhost:8080/"
        },
        "id": "2cgXjsmtFFLV",
        "outputId": "797d26f5-9e5f-4285-89d8-da1172ffe6b8"
      },
      "execution_count": 78,
      "outputs": [
        {
          "output_type": "stream",
          "name": "stdout",
          "text": [
            "['peach', 'mango', 'kiwi', 'cherry', 'banana', 'apple']\n"
          ]
        }
      ]
    },
    {
      "cell_type": "code",
      "source": [
        "#sort the list desending\n",
        "\n",
        "thislist = [100, 70, 45, 20, 16, 64, 82]\n",
        "thislist.sort(reverse = True)\n",
        "print(thislist)"
      ],
      "metadata": {
        "colab": {
          "base_uri": "https://localhost:8080/"
        },
        "id": "_aALjd5JFVx4",
        "outputId": "849fa4df-b57c-4620-f8dd-f6d0aeae6cd4"
      },
      "execution_count": 79,
      "outputs": [
        {
          "output_type": "stream",
          "name": "stdout",
          "text": [
            "[100, 82, 70, 64, 45, 20, 16]\n"
          ]
        }
      ]
    },
    {
      "cell_type": "code",
      "source": [
        "# case sensitive sort\n",
        "\n",
        "thislist = [\"apple\", \"Banana\", \"Peach\" , \"mango\", \"cherry\", \"Kiwi\"]\n",
        "thislist.sort()\n",
        "print(thislist)"
      ],
      "metadata": {
        "colab": {
          "base_uri": "https://localhost:8080/"
        },
        "id": "jVFA6ujyF8yU",
        "outputId": "09ad334f-e57b-41ff-c2bb-bf07f8b2128f"
      },
      "execution_count": 83,
      "outputs": [
        {
          "output_type": "stream",
          "name": "stdout",
          "text": [
            "['Banana', 'Kiwi', 'Peach', 'apple', 'cherry', 'mango']\n"
          ]
        }
      ]
    },
    {
      "cell_type": "code",
      "source": [
        "# reverse order\n",
        "\n",
        "thislist = [\"apple\", \"Banana\", \"Peach\" , \"mango\", \"cherry\", \"Kiwi\"]\n",
        "thislist.reverse()\n",
        "print(thislist)"
      ],
      "metadata": {
        "colab": {
          "base_uri": "https://localhost:8080/"
        },
        "id": "4_lileryGVCk",
        "outputId": "69b433b6-40a9-494a-bff5-9e3ffc97a56b"
      },
      "execution_count": 84,
      "outputs": [
        {
          "output_type": "stream",
          "name": "stdout",
          "text": [
            "['Kiwi', 'cherry', 'mango', 'Peach', 'Banana', 'apple']\n"
          ]
        }
      ]
    },
    {
      "cell_type": "code",
      "source": [
        "# copy list\n",
        "\n",
        "thislist = [\"apple\", \"Banana\", \"Peach\" , \"mango\", \"cherry\", \"Kiwi\"]\n",
        "mylist=thislist.copy()\n",
        "print(mylist)"
      ],
      "metadata": {
        "colab": {
          "base_uri": "https://localhost:8080/"
        },
        "id": "oaVOMgY8G5gJ",
        "outputId": "61953140-ec1c-44b1-a32f-03516568b6dd"
      },
      "execution_count": 87,
      "outputs": [
        {
          "output_type": "stream",
          "name": "stdout",
          "text": [
            "['apple', 'Banana', 'Peach', 'mango', 'cherry', 'Kiwi']\n"
          ]
        }
      ]
    },
    {
      "cell_type": "code",
      "source": [
        "# join two lists 1st method\n",
        "\n",
        "list1 = ['a', 'b', 'c']\n",
        "list2 = ['1', '2', '3', '4']\n",
        "\n",
        "list3 = list1 + list2\n",
        "print(list3)"
      ],
      "metadata": {
        "colab": {
          "base_uri": "https://localhost:8080/"
        },
        "id": "-8rq2XygHBlq",
        "outputId": "0a24a190-08da-4144-8cc8-3549c7d94eb4"
      },
      "execution_count": 93,
      "outputs": [
        {
          "output_type": "stream",
          "name": "stdout",
          "text": [
            "['a', 'b', 'c', '1', '2', '3', '4']\n"
          ]
        }
      ]
    },
    {
      "cell_type": "code",
      "source": [
        "# join two lists  2nd method\n",
        "\n",
        "list1 = ['a', 'b', 'c']\n",
        "list2 = ['1', '2', '3', '4']\n",
        "\n",
        "list1.extend(list2)\n",
        "print(list1)"
      ],
      "metadata": {
        "colab": {
          "base_uri": "https://localhost:8080/"
        },
        "id": "yuAGhB7hH2jR",
        "outputId": "33e28d91-b7bd-4072-9b79-f385d3d183e6"
      },
      "execution_count": 92,
      "outputs": [
        {
          "output_type": "stream",
          "name": "stdout",
          "text": [
            "['a', 'b', 'c', '1', '2', '3', '4']\n"
          ]
        }
      ]
    }
  ]
}