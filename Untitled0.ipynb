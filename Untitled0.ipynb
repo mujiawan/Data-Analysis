{
  "nbformat": 4,
  "nbformat_minor": 0,
  "metadata": {
    "colab": {
      "provenance": []
    },
    "kernelspec": {
      "name": "python3",
      "display_name": "Python 3"
    },
    "language_info": {
      "name": "python"
    }
  },
  "cells": [
    {
      "cell_type": "code",
      "execution_count": 41,
      "metadata": {
        "id": "AtMAPZ8i7xEA"
      },
      "outputs": [],
      "source": []
    },
    {
      "cell_type": "code",
      "source": [
        "def Hello():\n",
        "  print(\"Hello world!!\")\n",
        "\n",
        "Hello()"
      ],
      "metadata": {
        "colab": {
          "base_uri": "https://localhost:8080/"
        },
        "id": "a8fE_64JBOWq",
        "outputId": "6e7d92a8-75f3-4872-92d0-b87b75a1b4f8"
      },
      "execution_count": 42,
      "outputs": [
        {
          "output_type": "stream",
          "name": "stdout",
          "text": [
            "Hello world!!\n"
          ]
        }
      ]
    },
    {
      "cell_type": "code",
      "source": [
        "def add():\n",
        "  a=int(input(\"Enter value of a\"))\n",
        "  b=int(input(\"Enter value of b\"))\n",
        "  return a+b\n",
        "\n",
        "add()"
      ],
      "metadata": {
        "colab": {
          "base_uri": "https://localhost:8080/"
        },
        "id": "vzL-OYByFNYl",
        "outputId": "8de19113-ad6f-4924-e8b6-9346d0e7e105"
      },
      "execution_count": 43,
      "outputs": [
        {
          "name": "stdout",
          "output_type": "stream",
          "text": [
            "Enter value of a3\n",
            "Enter value of b5\n"
          ]
        },
        {
          "output_type": "execute_result",
          "data": {
            "text/plain": [
              "8"
            ]
          },
          "metadata": {},
          "execution_count": 43
        }
      ]
    },
    {
      "cell_type": "code",
      "source": [
        "def calculator():\n",
        "  a=int(input(\"Enter value of a\"))\n",
        "  b=int(input(\"Enter value of b\"))\n",
        "  operator=input(\"Enter a operator\")\n",
        "\n",
        "\n",
        "  if operator ==\"+\":\n",
        "    return a+b\n",
        "  elif operator ==\"-\":\n",
        "    return a-b\n",
        "  elif operator ==\"*\":\n",
        "    return a*b\n",
        "  elif operator ==\"/\":\n",
        "    return a/b\n",
        "\n",
        "  else:\n",
        "      print(\"Invalid\")\n",
        "\n",
        "calculator()"
      ],
      "metadata": {
        "colab": {
          "base_uri": "https://localhost:8080/"
        },
        "id": "6KqWVOvwG9lL",
        "outputId": "7a1f9f64-28e5-4876-d02d-0ba4097d48d9"
      },
      "execution_count": 44,
      "outputs": [
        {
          "output_type": "stream",
          "name": "stdout",
          "text": [
            "Enter value of a4\n",
            "Enter value of b5\n",
            "Enter a operator3\n",
            "Invalid\n"
          ]
        }
      ]
    },
    {
      "cell_type": "code",
      "source": [
        "def func2(a,b):\n",
        "  return a+b\n",
        "func2(5,3)"
      ],
      "metadata": {
        "colab": {
          "base_uri": "https://localhost:8080/"
        },
        "id": "LApUbhCzQ2yH",
        "outputId": "a2e88439-b111-4bac-bbd0-3bb4dfd9367a"
      },
      "execution_count": 45,
      "outputs": [
        {
          "output_type": "execute_result",
          "data": {
            "text/plain": [
              "8"
            ]
          },
          "metadata": {},
          "execution_count": 45
        }
      ]
    },
    {
      "cell_type": "code",
      "source": [
        "def func2(a=3,b=5):\n",
        "  return a+b\n",
        "func2()"
      ],
      "metadata": {
        "colab": {
          "base_uri": "https://localhost:8080/"
        },
        "id": "QL9POQH5SEND",
        "outputId": "2044ec50-27f0-49e0-8703-51985a90dcc2"
      },
      "execution_count": 46,
      "outputs": [
        {
          "output_type": "execute_result",
          "data": {
            "text/plain": [
              "8"
            ]
          },
          "metadata": {},
          "execution_count": 46
        }
      ]
    },
    {
      "cell_type": "code",
      "source": [
        "def func2(a=3,b=5):\n",
        "  return a+b\n",
        "func2()\n",
        "\n",
        "def func3(a=5,b=3):\n",
        "  return a+b\n",
        "func3()"
      ],
      "metadata": {
        "colab": {
          "base_uri": "https://localhost:8080/"
        },
        "id": "Y-r_NEBZSYfM",
        "outputId": "ecfd19f7-f0a4-4301-abcc-fa3d547614ac"
      },
      "execution_count": 47,
      "outputs": [
        {
          "output_type": "execute_result",
          "data": {
            "text/plain": [
              "8"
            ]
          },
          "metadata": {},
          "execution_count": 47
        }
      ]
    },
    {
      "cell_type": "code",
      "source": [
        "def func2(a=10,b=7):\n",
        "  return a+b\n",
        "\n",
        "func2()"
      ],
      "metadata": {
        "colab": {
          "base_uri": "https://localhost:8080/"
        },
        "id": "gpjERstZRK_P",
        "outputId": "58bce8fe-aab6-4809-c4a0-52803b94c479"
      },
      "execution_count": 48,
      "outputs": [
        {
          "output_type": "execute_result",
          "data": {
            "text/plain": [
              "17"
            ]
          },
          "metadata": {},
          "execution_count": 48
        }
      ]
    },
    {
      "cell_type": "code",
      "source": [
        "x=\"Muhammad Mujtaba\"\n",
        "print(len(x))"
      ],
      "metadata": {
        "colab": {
          "base_uri": "https://localhost:8080/"
        },
        "id": "CyE4uo9LTgNE",
        "outputId": "a41aecfe-3873-4dc6-9580-83ba4a5c2a4c"
      },
      "execution_count": 49,
      "outputs": [
        {
          "output_type": "stream",
          "name": "stdout",
          "text": [
            "16\n"
          ]
        }
      ]
    },
    {
      "cell_type": "code",
      "source": [
        "x=\"Muhammad Mujtaba s/o Muhammad Saleem\"\n",
        "print(len(x))"
      ],
      "metadata": {
        "colab": {
          "base_uri": "https://localhost:8080/"
        },
        "id": "za-T_fYJTugY",
        "outputId": "baaa7104-9ad2-44f3-abc0-ce103bf635d1"
      },
      "execution_count": 50,
      "outputs": [
        {
          "output_type": "stream",
          "name": "stdout",
          "text": [
            "36\n"
          ]
        }
      ]
    },
    {
      "cell_type": "markdown",
      "source": [
        "Write a python function of Grade\n",
        "Student name as an input and calculate their grades on conditions:\n",
        "A - 80\n",
        "B - 70\n",
        "C - 60\n",
        "D - 40\n"
      ],
      "metadata": {
        "id": "aMmRoDCaUoG-"
      }
    },
    {
      "cell_type": "code",
      "source": [
        "string1 =\"Hello\"\n",
        "string2 =\"Python\"\n",
        "print(string1 + string2)"
      ],
      "metadata": {
        "colab": {
          "base_uri": "https://localhost:8080/"
        },
        "id": "xwHduzP3VoVZ",
        "outputId": "ce1eb247-69ba-49e8-b337-2b027b753147"
      },
      "execution_count": 51,
      "outputs": [
        {
          "output_type": "stream",
          "name": "stdout",
          "text": [
            "HelloPython\n"
          ]
        }
      ]
    },
    {
      "cell_type": "code",
      "source": [
        "string1 =\"Hello  \"\n",
        "string2 =\"Python\"\n",
        "print(string1 + string2)"
      ],
      "metadata": {
        "colab": {
          "base_uri": "https://localhost:8080/"
        },
        "id": "UefRS2SOW2x1",
        "outputId": "2b351fc6-6e1c-4249-9be3-a8158d18e2e9"
      },
      "execution_count": 52,
      "outputs": [
        {
          "output_type": "stream",
          "name": "stdout",
          "text": [
            "Hello  Python\n"
          ]
        }
      ]
    },
    {
      "cell_type": "code",
      "source": [
        "string1 =\"Hello\"\n",
        "string2 =\"Python\"\n",
        "string3=\"      \"\n",
        "print(string1 +string3 + string2)"
      ],
      "metadata": {
        "colab": {
          "base_uri": "https://localhost:8080/"
        },
        "id": "BEiCSp7QV_x-",
        "outputId": "4c8054dc-bca7-4ef5-c4ea-db1b7d77f30f"
      },
      "execution_count": 53,
      "outputs": [
        {
          "output_type": "stream",
          "name": "stdout",
          "text": [
            "Hello      Python\n"
          ]
        }
      ]
    },
    {
      "cell_type": "code",
      "source": [
        "Write a python function of Grade Student name as an input and calculate their grades on conditions:\n",
        "A - 80\n",
        "B - 70\n",
        "C - 60\n",
        "D - 40"
      ],
      "metadata": {
        "colab": {
          "base_uri": "https://localhost:8080/",
          "height": 106
        },
        "id": "zlTJs3LqWptu",
        "outputId": "525074b3-b486-42e2-ea63-93c5f9944c44"
      },
      "execution_count": 54,
      "outputs": [
        {
          "output_type": "error",
          "ename": "SyntaxError",
          "evalue": "invalid syntax (<ipython-input-54-18900dabebe7>, line 1)",
          "traceback": [
            "\u001b[0;36m  File \u001b[0;32m\"<ipython-input-54-18900dabebe7>\"\u001b[0;36m, line \u001b[0;32m1\u001b[0m\n\u001b[0;31m    Write a python function of Grade Student name as an input and calculate their grades on conditions:\u001b[0m\n\u001b[0m          ^\u001b[0m\n\u001b[0;31mSyntaxError\u001b[0m\u001b[0;31m:\u001b[0m invalid syntax\n"
          ]
        }
      ]
    },
    {
      "cell_type": "code",
      "source": [
        "def grade_student():\n",
        "    student_name = input(\"Enter student name: \")\n",
        "    score = int(input(\"Enter student score: \"))\n",
        "\n",
        "    if score >= 80:\n",
        "        grade = 'A'\n",
        "    elif score >= 70:\n",
        "        grade = 'B'\n",
        "    elif score >= 60:\n",
        "        grade = 'C'\n",
        "    elif score >= 40:\n",
        "        grade = 'D'\n",
        "    else:\n",
        "        grade = 'F'\n",
        "\n",
        "    print(f\"{student_name} has received a score of {grade}.\")\n",
        "\n",
        "grade_student()"
      ],
      "metadata": {
        "colab": {
          "base_uri": "https://localhost:8080/"
        },
        "id": "1D9uP-eLxXT7",
        "outputId": "be0e1ced-8455-43f2-9103-02d061223cf8"
      },
      "execution_count": 69,
      "outputs": [
        {
          "output_type": "stream",
          "name": "stdout",
          "text": [
            "Enter student name: aszxz\n",
            "Enter student score: 79\n",
            "aszxz has received a score of B.\n"
          ]
        }
      ]
    },
    {
      "cell_type": "code",
      "source": [
        "string1=\"Welcome to the AI class\"\n",
        "print(string1)"
      ],
      "metadata": {
        "colab": {
          "base_uri": "https://localhost:8080/"
        },
        "id": "YPi3rN2DWs69",
        "outputId": "9da87167-b53c-4bea-c1f3-9e33eba5f404"
      },
      "execution_count": 70,
      "outputs": [
        {
          "output_type": "stream",
          "name": "stdout",
          "text": [
            "Welcome to the AI class\n"
          ]
        }
      ]
    },
    {
      "cell_type": "code",
      "source": [
        "string1=\"I'm a Python\"\n",
        "print(string1)"
      ],
      "metadata": {
        "colab": {
          "base_uri": "https://localhost:8080/"
        },
        "id": "RMamTSsOefks",
        "outputId": "1827e01b-0196-4df6-c692-5f36e12abd75"
      },
      "execution_count": 71,
      "outputs": [
        {
          "output_type": "stream",
          "name": "stdout",
          "text": [
            "I'm a Python\n"
          ]
        }
      ]
    },
    {
      "cell_type": "code",
      "source": [
        "string1=\"I'm a Python\"\n",
        "print(string1[7])"
      ],
      "metadata": {
        "colab": {
          "base_uri": "https://localhost:8080/"
        },
        "id": "eDZdK7Fre9DK",
        "outputId": "d16251d3-cd06-4f63-eae6-5b15962d2873"
      },
      "execution_count": 72,
      "outputs": [
        {
          "output_type": "stream",
          "name": "stdout",
          "text": [
            "y\n"
          ]
        }
      ]
    },
    {
      "cell_type": "code",
      "source": [
        "string1=\"I'm a Python\"\n",
        "print(string1[-2])"
      ],
      "metadata": {
        "colab": {
          "base_uri": "https://localhost:8080/"
        },
        "id": "U3ulEx_afdZl",
        "outputId": "e6718451-260a-415d-b342-7b8c8ff2ef51"
      },
      "execution_count": 73,
      "outputs": [
        {
          "output_type": "stream",
          "name": "stdout",
          "text": [
            "o\n"
          ]
        }
      ]
    },
    {
      "cell_type": "code",
      "source": [
        "string1='''I'm a Python developer'''\n",
        "print(string1[4])"
      ],
      "metadata": {
        "colab": {
          "base_uri": "https://localhost:8080/"
        },
        "id": "eneKQZ34fp4J",
        "outputId": "9e8cacd3-7016-412e-dcc6-851011365c3b"
      },
      "execution_count": 74,
      "outputs": [
        {
          "output_type": "stream",
          "name": "stdout",
          "text": [
            "a\n"
          ]
        }
      ]
    },
    {
      "cell_type": "code",
      "source": [
        "string1='\"I\"m a Python developer\"'\n",
        "print(string1[3])"
      ],
      "metadata": {
        "colab": {
          "base_uri": "https://localhost:8080/"
        },
        "id": "XMuk83g2hlzf",
        "outputId": "c3782faa-9e67-4ce9-b9ba-33a381b73bd2"
      },
      "execution_count": 75,
      "outputs": [
        {
          "output_type": "stream",
          "name": "stdout",
          "text": [
            "m\n"
          ]
        }
      ]
    },
    {
      "cell_type": "code",
      "source": [
        "string1=\"ArtificalIntelligence\"\n",
        "print(\"Initial String: \")\n",
        "print(string1)"
      ],
      "metadata": {
        "colab": {
          "base_uri": "https://localhost:8080/"
        },
        "id": "adhzj0oxgSFh",
        "outputId": "792bdfde-7063-43f8-fa6f-5d222f7cf36a"
      },
      "execution_count": 76,
      "outputs": [
        {
          "output_type": "stream",
          "name": "stdout",
          "text": [
            "Initial String: \n",
            "ArtificalIntelligence\n"
          ]
        }
      ]
    },
    {
      "cell_type": "code",
      "source": [
        "string1=\"ArtificalIntelligence\"\n",
        "print(string1[4])"
      ],
      "metadata": {
        "colab": {
          "base_uri": "https://localhost:8080/"
        },
        "id": "Mq7qUJYehJqM",
        "outputId": "5073189e-9058-4abd-bda6-f3c710ce04a9"
      },
      "execution_count": 77,
      "outputs": [
        {
          "output_type": "stream",
          "name": "stdout",
          "text": [
            "f\n"
          ]
        }
      ]
    },
    {
      "cell_type": "code",
      "source": [
        "string1=\"ArtificalIntelligence\"\n",
        "print(string1[-7])"
      ],
      "metadata": {
        "colab": {
          "base_uri": "https://localhost:8080/"
        },
        "id": "sReaTXNFhUb8",
        "outputId": "abaa52a2-24c4-4d29-8e9d-486e641acaf4"
      },
      "execution_count": 78,
      "outputs": [
        {
          "output_type": "stream",
          "name": "stdout",
          "text": [
            "l\n"
          ]
        }
      ]
    },
    {
      "cell_type": "code",
      "source": [
        "string1=\"ArtificalIntelligence\"\n",
        "print(string1[-4])"
      ],
      "metadata": {
        "colab": {
          "base_uri": "https://localhost:8080/"
        },
        "id": "hqOBkz1CheRw",
        "outputId": "0eca6588-3f91-469a-c3bc-e6569b94f707"
      },
      "execution_count": 79,
      "outputs": [
        {
          "output_type": "stream",
          "name": "stdout",
          "text": [
            "e\n"
          ]
        }
      ]
    },
    {
      "cell_type": "code",
      "source": [
        "MyString='Learn Python'\n",
        "print(MyString[0:5])\n",
        "print(MyString[-12:-7])"
      ],
      "metadata": {
        "colab": {
          "base_uri": "https://localhost:8080/"
        },
        "id": "zUj5JDSViqtw",
        "outputId": "b5d1dbcd-7cbd-43fa-fb1e-f2baff68e6de"
      },
      "execution_count": 80,
      "outputs": [
        {
          "output_type": "stream",
          "name": "stdout",
          "text": [
            "Learn\n",
            "Learn\n"
          ]
        }
      ]
    },
    {
      "cell_type": "code",
      "source": [
        "MyString='Learn Python'\n",
        "print(MyString[0:5])\n",
        "print(MyString[-12:-7],\"\\n\")"
      ],
      "metadata": {
        "colab": {
          "base_uri": "https://localhost:8080/"
        },
        "id": "pvz9AiC_jdCx",
        "outputId": "1a2a9d61-3d3d-4da5-ff8c-fc8a17c1cccf"
      },
      "execution_count": 81,
      "outputs": [
        {
          "output_type": "stream",
          "name": "stdout",
          "text": [
            "Learn\n",
            "Learn \n",
            "\n"
          ]
        }
      ]
    },
    {
      "cell_type": "code",
      "source": [
        "MyString='Learn Python'\n",
        "print(MyString[6:])\n",
        "print(MyString[:-7],\"\\n\")"
      ],
      "metadata": {
        "colab": {
          "base_uri": "https://localhost:8080/"
        },
        "id": "2xjAkpRTjhka",
        "outputId": "4a3470e6-be1e-4a74-ea92-560fbe972be8"
      },
      "execution_count": 82,
      "outputs": [
        {
          "output_type": "stream",
          "name": "stdout",
          "text": [
            "Python\n",
            "Learn \n",
            "\n"
          ]
        }
      ]
    },
    {
      "cell_type": "code",
      "source": [
        "MyString='Learn Python'\n",
        "print(MyString[:])"
      ],
      "metadata": {
        "colab": {
          "base_uri": "https://localhost:8080/"
        },
        "id": "RRwBf6JDl0TV",
        "outputId": "db638d76-e9a4-4f89-c9b1-4e679c1195aa"
      },
      "execution_count": 83,
      "outputs": [
        {
          "output_type": "stream",
          "name": "stdout",
          "text": [
            "Learn Python\n"
          ]
        }
      ]
    },
    {
      "cell_type": "code",
      "source": [
        "x='Python Class'\n",
        "print(x[::-1])"
      ],
      "metadata": {
        "colab": {
          "base_uri": "https://localhost:8080/"
        },
        "id": "bUp9aEwOs0SM",
        "outputId": "c689f04a-59cd-4bb0-fcd0-5f64b0068d1e"
      },
      "execution_count": 41,
      "outputs": [
        {
          "output_type": "stream",
          "name": "stdout",
          "text": [
            "ssalC nohtyP\n"
          ]
        }
      ]
    },
    {
      "cell_type": "code",
      "source": [
        "x='Python Class'\n",
        "print(x[0:6:2])"
      ],
      "metadata": {
        "colab": {
          "base_uri": "https://localhost:8080/"
        },
        "id": "W3PSpMjrtWmp",
        "outputId": "6970e243-ed54-4f36-b75d-e1f7e29193b6"
      },
      "execution_count": 59,
      "outputs": [
        {
          "output_type": "stream",
          "name": "stdout",
          "text": [
            "Pto\n"
          ]
        }
      ]
    },
    {
      "cell_type": "code",
      "source": [
        "x=[1,2,3,4,5]\n",
        "print(x.index(4))"
      ],
      "metadata": {
        "colab": {
          "base_uri": "https://localhost:8080/"
        },
        "id": "RdES_FVIu2g9",
        "outputId": "507ed50b-f28b-4820-e128-c7dc6a3a2613"
      },
      "execution_count": 65,
      "outputs": [
        {
          "output_type": "stream",
          "name": "stdout",
          "text": [
            "3\n"
          ]
        }
      ]
    },
    {
      "cell_type": "code",
      "source": [
        "x='tan'\n",
        "print(x.index('t'))"
      ],
      "metadata": {
        "colab": {
          "base_uri": "https://localhost:8080/"
        },
        "id": "WGZdYKH7vsbx",
        "outputId": "d2c14e5a-1c24-4930-b63d-e8c6595a726b"
      },
      "execution_count": 66,
      "outputs": [
        {
          "output_type": "stream",
          "name": "stdout",
          "text": [
            "0\n"
          ]
        }
      ]
    },
    {
      "cell_type": "code",
      "source": [
        "x=[1,2,3,3,3,4,5,5]\n",
        "print="
      ],
      "metadata": {
        "id": "zhNgsZH5y7ru"
      },
      "execution_count": null,
      "outputs": []
    }
  ]
}